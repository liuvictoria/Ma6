{
 "cells": [
  {
   "cell_type": "markdown",
   "metadata": {},
   "source": [
    "\\usepackage{amsthm}\n",
    "REMEMBER TO ADD THE THREE PICTURES IN OVERLEAF\n",
    "Remember to add author and change the title!"
   ]
  },
  {
   "cell_type": "markdown",
   "metadata": {},
   "source": [
    "\\section* {Problem 1}"
   ]
  },
  {
   "cell_type": "markdown",
   "metadata": {},
   "source": [
    "\\begin{proof}\n",
    "\n",
    "I think the statement \"any graph has a bipartite subgraph containing at least half its edges\" won't hold for every non-simple graph. For example, consider a single vertex with a single self-loop. Since bipartite graphs cannot have self-loops, we will never be able to find a bipartite subgraph with more than $0$ edges. In my answer, I will only prove the statement for graphs without self-loops; parallel edges are fine.\n",
    "\n",
    "Let's prove the statement using induction on the number of vertices. Since we are looking at bipartite graphs, let's start with a base case of $2$ vertices; graphs with zero vertices or one vertex are \"trivially\" bipartite already. When we have two vertices, we can partition each vertex into its own vertex set, thus preserving at least half its edges (actually all of its edges) this way. \n",
    "\n",
    "Now, we assume the statement is true for all graphs with $k$ vertices, and we want to show that the statement is still true for graphs with $k+1$ vertices. Let's say we have any graph $G$ with $k+1$ vertices. Remove any vertex $a$ and the set of edges with an endpoint in $a$. Call this set of removed edges $E_{a}$ and the resulting graph after these removals $H$. Graph $H$ has $k$ vertices, so by our induction hypothesis, it contains a bipartite subgraph with at least half the edges in $H$. In other words, $H$ has a partition of two vertex sets $U$ and $V$ such that the number of edges connecting elements of $U$ to elements of $V$ is at least half of the total number of edges in $H$; let's call the total number of edges in $H$ $|E_{H}|$. Now, we go back to graph $G$. We simply place $a$ into the vertex set ($U$ or $V$) where at least half of $E_{a}$ remains in the bipartite subgraph. For example, if exactly half of $E_{a}$ remains when $a$ is placed in $U$, then we could place $a$ in either $U$ or $V$. In another example, if exactly a third of $E_{a}$ remains when $a$ is placed in $U$, then exactly two-thirds of $E_{a}$ remains when $a$ is placed in $V$, and we should place $a$ in $V$. We can think that the choice of placing $a$ in either $U$ or $V$ will \"partition\" $E_{a}$ into two disjoint edge sets, since every edge in $E_{a}$ will either connect $a$ to a vertex in $U$ or to a vertex in $V$; if $a$ is placed in $U$, we take away the edges in $E_{a}$ connecting $a$ to vertices in $U$, and vice versa. Of these two disjoint edge sets, at least one set will contain at least half of $|E_{a}|$.\n",
    "\n",
    "Now let's count the number of edges we have in this bipartite subgraph of $G$--we have all the edges from $H$'s bipartite subraph, and this count is at least $\\frac{1}{2}|E_{H}|$. In addition to these edges, we also have at least half the edges in $E_{a}$, or $\\frac{1}{2}|E_{a}|$. Thus, we have at least $\\frac{1}{2}\\left( |E_{H}| + |E_{a}| \\right)$. Note that we defined $E_{H}$ and $E_{a}$ by $E_{H} + E_{a} = E_{G}$, so we are done. We have a bipartite subgraph of $G$ with at least half its edges.\n",
    "\n",
    "\\end{proof}\n"
   ]
  },
  {
   "cell_type": "markdown",
   "metadata": {},
   "source": [
    "\\section* {Problem 2}\n",
    "\\subsection* {2.a}"
   ]
  },
  {
   "cell_type": "markdown",
   "metadata": {},
   "source": [
    "\\begin{proof}\n",
    "\n",
    "We can show this using induction on the number of edges $|E|$ in the connected graph. For our base case: when we have $0$ edges, we have exactly $1$ vertex (if we had $0$ vertices, there wouldn't be a graph) and $1$ face, the outer infinite face. The one-vertex graph is clearly planar, since we don't have any edges to cross. We also have $1 - 0 + 1 = 2$, satisfying the formula. Now, assume that this formula holds for any planar graph with $k$ edges, so that $v - e + f = 2$ holds.\n",
    "\n",
    "Now, let's examine a graph $G$ with $k + 1$ edges. We assume that $G$ is planar and want to show that $v_{G} - (k+1) + f_{G} = 2$ holds for $G$. Let's remove a single edge from $G$, resulting in a graph $H$ with $k$ edges. Since we are only looking at connected graphs, let us only consider removing an edge that will result in a $H$ where at most one vertex is disconnected (i.e. $v_{G} - 1 \\le v_{H} \\le v_{G}$). This will be useful for our induction hypothesis, and we have the prerogative to choose which edge to remove because we are not concerned with the planarity of disconnected graphs. We will always be able to find an edge in $G$ whose removal will disconnect at most one vertex, as we will show now. There are two scenarios:\n",
    "\n",
    "\\begin{enumerate}\n",
    "\\item If $G$ has no cycles (in our definition of cycle, we include parallel edges / self-loops, since those also create \"faces\"), then we have a tree structure, and there will be at least one \"leaf.\" The leaf vertex $a$ only has one degree, and we remove this edge, creating $H$ where only $a$ is disconnected.\n",
    "\\item If $G$ has a cycle, remove any edge in the cycle. Having a cycle means that any two vertices in $G$ are connected by two different paths; removing a single edge will guarantee that all vertices in $G$ are still connected, if only by one path now.\n",
    "\\end{enumerate}\n",
    "\n",
    "Let's analyze these two scenarios more closely. In the first case, $H$ has a disconnected vertex $a$. If we also remove $a$, then the resulting graph $J$ will have $v_{G} - 1$ vertices, $k$ edges, and $f_{G}$ faces. The face count doesn't change since we aren't \"combining\" any cycles. Note that $J$ will be planar; $J$ is connected, and because none of the edges in $G$ intersected at non-vertex points, none of the edges in $J$ will intersect at non-vertex points either. Luckily, our induction hypothesis guarantees that $v - e + f = 2$ for connected graphs with $k$ edges, so we see that: \n",
    "\n",
    "\\begin{align}\n",
    "(v_{G} - 1) - k + f_{G} = 2\n",
    "\\end{align}\n",
    "\n",
    "Let's manipulate the equation...\n",
    "\\begin{align}\n",
    "v_{G} - (k + 1) + f_{G} = 2\n",
    "\\label{eq:2}\n",
    "\\end{align}\n",
    "\n",
    "\n",
    "We realize \\ref{eq:2} is exactly the equation for our graph $G$, which has $k+1$ edges, $v_{G}$ vertices, and $f_{G}$ faces. So we have finished the proof for scenario one.\n",
    "\n",
    "In scenario two, $H$ has $v_{G}$ vertices and remains connected. However, because we disturbed a cycle, we are \"combining\" two adjacent faces together, so $H$ has $f_{G} - 1$. Since we removed one edge, $H$ has $k$ edges. Note that $H$ is still planar because it is connected and because removing an edge will not make the other edges intersect each other at non-vertex points. Our induction hypothesis then guarantees:\n",
    "\n",
    "\\begin{align}\n",
    "v_{G} - k + (f_{G} - 1) = 2\n",
    "\\end{align}\n",
    "\n",
    "Rearranging this equation, we get:\n",
    "\n",
    "\\begin{align}\n",
    "v_{G} - (k + 1) + (f_{G}) = 2\n",
    "\\label{eq:3}\n",
    "\\end{align}\n",
    "\n",
    "We realize \\ref{eq:3} is exactly the equation for our graph $G$, which has $k+1$ edges, $v_{G}$ vertices, and $f_{G}$ faces. So we have finished the proof for scenario two as well, and we are done.\n",
    "\n",
    "\\end{proof}"
   ]
  },
  {
   "cell_type": "markdown",
   "metadata": {},
   "source": [
    "\\subsection* {2.b}"
   ]
  },
  {
   "cell_type": "markdown",
   "metadata": {},
   "source": [
    "\\begin{proof}\n",
    "\n",
    "We will do a proof by contradiction, assuming that the complete $K_{3,3}$ graph is actually planar. We can easily see that a complete $K_{3,3}$ graph has $6$ vertices and $9$ edges. Since we are assuming it to be planar, it would have $5$ faces to satisfy $v - e + f = 2$. In lecture 9, we proved that bipartite graphs can only have cycles of even length. Since $K_{3,3}$ does not have parallel edges, the shortest cycle length is $4$; in other words, the smallest \"face\" contains at least $4$ edges. In addition, we note that an edge can be part of at most two different faces. Thus, in order to have $5$ faces, we would need at least $\\frac{4 \\cdot 5}{2}$ edges. This is greater than the $9$ edges we have, so it is impossible to have $5$ faces. Here is a contradiction, so $K_{3,3}$ must not be planar.\n",
    "\n",
    "\\end{proof}"
   ]
  },
  {
   "cell_type": "markdown",
   "metadata": {},
   "source": [
    "\\section* {Problem 3}"
   ]
  },
  {
   "cell_type": "markdown",
   "metadata": {},
   "source": [
    "\\begin{proof}\n",
    "\n",
    "We first note that the length of the shortest Hamilton cycle (denoted as $|S|$) will be greater than the size of a minimum spanning tree (denoted as $|T|$) since all the weights are positive. This is because the minimum spanning tree represents the shortest (or least \"weighty\") way of connecting all the cities, and only has $n-1$ edges, while the Hamilton cycle has $n$ edges. Suppose for contradiction that our MST $T$ has a greater size $|T|$ than our shortest Hamilton cycle $S$. We would be able to find a smaller MST $T$ by taking away an edge from our Hamilton cycle $S$, and this MST $T$ would be smaller than our Hamilton cycle $S$. This contradicts the minimality of our original MST, $T$, so $|T|<|S|$.\n",
    "\n",
    "Before moving forward, we also realize that the triangle inequality can be expanded to more than three points. For example, for four points ($w$, $x$, $y$, and $z$), the direct distance between two points (i.e. $w$ and $x$) is smaller than (or equal to) the wrap-around distance (i.e. $w$ to $y$ to $z$ to $x$). This can be shown using induction on the number of points, with the base case being three points. Let's assume that the \"triangle inequality\" holds for $k$ points, so that the RHS of the following inequality contain $k$ edges:\n",
    "\n",
    "\\begin{align}\n",
    "w(u, y) \\le w(u, v) + ... w(w, x) + w(x, y)\n",
    "\\end{align}\n",
    "\n",
    "That is our induction hypothesis, and we want to show whether:\n",
    "\\begin{align}\n",
    "w(u, y) \\overset{?}{\\le} w(u, v) + ... + w(w, x) + w(x, z) + w(z, y)\n",
    "\\label{eq:1}\n",
    "\\end{align}\n",
    "\n",
    "\n",
    "also holds. Note that now the RHS has $k+1$ points, although the extra point $z$ could've been added at any point in the path, but we place it after $x$ without loss of generality. We note that by the triangle inequality, $w(u, y) \\le w(u, z) + w(z, y)$, so we can rewrite \\ref{eq:1} as:\n",
    "\n",
    "\\begin{align}\n",
    "w(u, y) \\le w(u, z) + w(z, y) \\overset{?}{\\le} w(u, v) + ... + w(w, x) + w(x, z) + w(z, y)\n",
    "\\end{align}\n",
    "\n",
    "It's easy to show the second inequality (the one with the question mark over it) because by the induction hypothesis, $w(u, z) \\le w(u, v) + ... + w(w, x) + w(x, z)$. Thus, we have extrapolated the triangle inequality to more than three points. All of this will be very helpful later on. Ok, let's move onto the meat of the proof.\n",
    "\n",
    "We can think of the Prim algorithm described in the homework footnote in a more intuitive way by directly looking at the full MST generated by Prim and running BFS on our MST from the starting vertex. Running BFS should be very straightforward since we already know the parents of each vertex from running Prim. We put the starting vertex at the top, in level $0$, the children of the starting vertex in level $1$, and so on. Refer to the MST example diagram for a clearer idea. This diagram is just an example, but it gets the idea across well; note that it is of the MST, and not the originally fully-connected graph (we could think of the fully-connected graph as a graph as having edge weights as shown in the MST and then having all un-shown edges be of weight $12$). The way Prim works is that when we visit a certain vertex $A$ in level $k$, we will not visit any of the other (as of yet unvisited) vertices in level $k$ until we have visited every vertex in the branch that $A$ forms. If we get to a branching point $B$ in level $m$ within the branch that $A$ forms (so $m > k$), we will not visit any other (unvisited) points in level $m$ until all the vertices in branch $B$ are visited, and so on. A more thorough (and perhaps unnecessary) explanation is given in the following paragraph, and we will tie together these ideas in the conclusion to show that our cycle is a $2$-approximation.\n",
    "\n",
    "In constructing our Hamilton cycle, we start at level $0$ and visit the closest vertex (aka the adjacent vertex with the least weighty connection) in the layer below. In our diagram, we would be going from vertex $a$ to vertex $b$. Then, we find a vertex that requires the least weight to be connected to our current path of $a$ and $b$. That would be vertex $c$. Since vertex $c$ is least connected to vertex $a$, we add $c$ after $a$, and our current path is $a \\rightarrow c \\rightarrow b$. We continue this until we put all the vertices in our Hamilton cycle. Note that for a given branch point $v$, we are \"seeing\" adjacent vertices with \"lighter weight\" before \"seeing\" adjacent vertices with \"heavier weight\", but we are always putting the chosen vertex immediately after $v$. This means that the complete Hamilton cycle will go from $v$ to the heaviest adjacent vertex $u$, traverse all vertices under branch $u$ (or if $u$ is a leaf, then just traverse $u$), before moving to a lighter adjacent vertex (adjacent to $v$). In addition, we traverse entire branches (or sub-branches) before moving onto other branches (or sub-branches) starting at the same level. Because we have a tree, a vertex can only be \"seen\" through its parents, and it will always be added after its parent and, more importantly, before any (as of yet \"unseen\") vertices in the same level as the branching point. In other words, on our Hamilton cycle, all vertices in between the branching vertex $v$ and another vertex in the same level as $v$ are children / grandchildren etc. of vertex $v$. Thus, this explains the intuition in the previous paragraph, where realized we are traversing the vertices based on which branch they are in. The colors of the highlighted paths (in the diagram) give a good idea of how the branches are traversed. After starting at vertex $a$, we go to vertex $d$ (the heaviest adjacent vertex to our starting vertex $a$), then to $c$ (the second heaviest adjacent vertex to our starting vertex $a$), traverse the entire branch of $c$, then finally to vertex $b$ (the lightest adjacent vertex to our starting vertex $a$). This diagram is here for better explanation (I tried explaining it without a diagram, but it was so hard!), but the logic of traveling down an entire branch before moving onto another branch starting at the same level holds in all cases due to the nature of the \"insert\". Another point is that the Prim algorithm for Hamilton cycles works on the fully connected graph $G$, but since we already have an MST, we can easily figure out the sequence of vertices in the Hamilton cycle because the \"lightest weight connecting the current tree to a non-tree vertex\" has already been cherry-picked in the MST.\n",
    "\n",
    "Now, let's tie everything together. Let's call the size of the Hamilton cycle generated by Prim $|H|$, the size of the shortest Hamilton cycle $|S|$, and the size of the MST $|T|$. We want to show that $|H| \\le 2|S|$. Let's start! We have our Hamilton vertex order, and $|H|$ is determined by traveling along these vertices in the original, fully-connected graph $G$. For fun, let's imagine if we took away all the edges in $G$ except for the edges in the MST. If we were to still travel the list of vertices in order, we would have to \"go back\" to the first common parent of successive vertices. For example, going back to our diagram's MST, we would travel from $a \\rightarrow d \\rightarrow a \\rightarrow c \\rightarrow e \\rightarrow c \\rightarrow f$ etc. This would cause every edge to be traveled twice--once going down to visit the child vertex and once coming back up to the parent vertex. This cycle (no longer a Hamilton cycle!) has a size of $2|T|$. Due to the triangle inequality (and its more general version with more than three points), we would have a shorter path if we could just travel according to the Hamilton cycle without needing to go back to common parent nodes; going back to the common parent node would require at least two edges between consecutive vertices in our ordered list of vertices, but the triangle inequality tells us that it would be better to go directly to the next vertex, since that would only require one edge. Luckily, the actual Hamilton cycle we generated is to be traveled on the fully-connected graph and does just that. In other words, $|H| \\le 2|T|$. At the beginning of the problem, we noted that $|T| < |S|$, so $2|T| < 2|S|$, and $|H| < 2|S|$. This is exactly the definition of a $2$- approximation, and we are done.\n",
    "\n",
    "\\end{proof}"
   ]
  },
  {
   "cell_type": "markdown",
   "metadata": {},
   "source": [
    "\\section* {Problem 4}"
   ]
  },
  {
   "cell_type": "markdown",
   "metadata": {},
   "source": [
    "We will do a direct proof to show that Hall's Marriage Theorem conditions are satisfied. Hall's Marriage theorem says that for a bipartite graph $G = (V_{1} \\cup V_{2}$ where $|V_{1}| = |V_{2}|$, there exists a perfect matching in $G$ $\\iff$ for every $A \\subset V_{1}$, $|A| \\le |N(A)|$, where the $N(A)$ notation represents the set of neighbor vertices. We will first show that for our graph $G$, $|V_{1}| = |V_{2}|$ before proving the neighboring set requirement.\n",
    "\n",
    "Since $G$ is r-regular, it must have exactly $\\frac{2 \\cdot n \\cdot r}{2}$, or $nr$ edges in total, connecting vertices in $V_{1}$ to vertices in $V_{2}$. Since all vertices in $V_{1}$ and $V_{2}$ have degree $r$, that means there must be $n$ vertices in $V_{1}$ and $n$ other vertices in $V_{2}$. In other words, $|V_{1}| = |V_{2}|$. Now, we want to show that for every $A \\subset U$, we have $|A| \\le |N(A)|$. Let's call the set of edges with an endpoint in $|A|$ as $E_{A}$. Since all vertices in $A$ have degree $r$, $|E_{A}| = r|A|$. Let's call the set of edges with an endpoint in $N(A)$ as $E_{N(A)}$. Again, $|E_{N(A)}| = r|N(A)|$. Now, we note that $E_{A} \\subseteq E_{N(A)}$ because all of the edges with an endpoint in $A$ also have an endpoint in $N(A)$, so these edges would be counted in $E_{N(A)}$. This means that:\n",
    "\n",
    "\\begin{align}\n",
    "|E_{A}| \\le |E_{N(A)}|\n",
    "r|A| \\le r|N(A)|\n",
    "|A| \\le |N(A)|\n",
    "\\end{align}\n",
    "\n",
    "Now Hall's Marriage condition is satisfied, so there must be a perfect matching in $G$. Since $G$ has $2n$ vertices, the size of the perfect matching would be size $n$."
   ]
  },
  {
   "cell_type": "markdown",
   "metadata": {},
   "source": [
    "\\section* {Problem 5}"
   ]
  },
  {
   "cell_type": "markdown",
   "metadata": {},
   "source": [
    "Please refer to the attached diagram. We find a maximum flow of size $19$."
   ]
  }
 ],
 "metadata": {
  "kernelspec": {
   "display_name": "Python 3",
   "language": "python",
   "name": "python3"
  },
  "language_info": {
   "codemirror_mode": {
    "name": "ipython",
    "version": 3
   },
   "file_extension": ".py",
   "mimetype": "text/x-python",
   "name": "python",
   "nbconvert_exporter": "python",
   "pygments_lexer": "ipython3",
   "version": "3.8.5"
  }
 },
 "nbformat": 4,
 "nbformat_minor": 4
}
