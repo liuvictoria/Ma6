{
 "cells": [
  {
   "cell_type": "markdown",
   "metadata": {},
   "source": [
    "\\usepackage{amsthm}\n",
    "Remember to change author name and title and such lol (Victoria Liu)\n",
    "If equations numbers don't get referenced, run AGAIN. Will render second time around. (8 and 14)"
   ]
  },
  {
   "cell_type": "markdown",
   "metadata": {},
   "source": [
    "\\section* {Problem 1}"
   ]
  },
  {
   "cell_type": "markdown",
   "metadata": {},
   "source": [
    "We see that $2$ is a Miller-Rabin witness for $1288119601$. We factor $1288119601 - 1$ into $2^4 \\cdot 80507475$. In other words, $s = 4$ and $d = 80507475$. We can write $80507475 = 2^{26} + 2^{23} + 2^{22} + 2^{19} + 2^{18} + 2^{14} + 2^{13} + 2^{12} + 2^{9} + 2^{6} + 2^{4} + 2^{1} + 2^{0}$, which will help with modular exponentiation since now we only have to exponentially modulate around $26 + 13$ times. We check our exponential modulation on Mathematica and see that:\n",
    "\n",
    "\\begin{align}\n",
    "2^{80507475} \\equiv 95382061\\pmod{1288119601}\n",
    "\\end{align}\n",
    "\n",
    "This means that we fail the first part of the Miller-Rabin primality test, where $a^d \\equiv 1 \\pmod{n}$ for a prime number $n$. So far, $2$ is looking like a promising witness that $1288119601$ is composite. In order to show that $1288119601$ is composite, now we must fail the second part of the Miller-Rabin primarily test, which says that $\\exists r$ where $0\\le r < s$ such that $a^{2^{r}d} \\equiv -1 \\pmod{n}$. Since $s = 4$, we have $r = 0$, $r = 2$, and $r = 3$. Let's see the modular exponentiation when $r = 3$.\n",
    "\n",
    "\\begin{align}\n",
    "2^{161014950} \\equiv 2066916\\pmod{1288119601}\n",
    "\\end{align}\n",
    "\n",
    "This did not pass. What about for $r = 2$ and $r = 1$?\n",
    "\n",
    "\\begin{align}\n",
    "2^{322029900} \\equiv 737154140\\pmod{1288119601}\n",
    "2^{644059800} \\equiv 745370093\\pmod{1288119601}\n",
    "\\end{align}\n",
    "\n",
    "Clearly, for every $0 \\le r \\le 4$, $2^{2^{r}\\cdot 80507475} \\not\\equiv -1 \\pmod{1288119601}$. That's great. We have completely failed the Miller-Rabin primality test, with $2$ as a witness."
   ]
  },
  {
   "cell_type": "markdown",
   "metadata": {},
   "source": [
    "\\section* {Problem 2}\n",
    "\\subsection* {2.a}"
   ]
  },
  {
   "cell_type": "markdown",
   "metadata": {},
   "source": [
    "Show that $n! \\le n^n$ for all natural number.\n",
    "\\begin{proof}\n",
    "\n",
    "We do a proof by induction. I know that there is sometimes confusion over whether $0$ is counted in the set of natural numbers, so I will just do two base cases of $n = 0$ and $n = 1$ to cover my \"bases.\" For $n = 0$, $0! \\le 0^0$ because both sides are equal to $1$. For $n = 1$, $1! \\le 1^1$ because both sides are again equal to $1$. Thus the base case(s) hold.\n",
    "\n",
    "Now, we assume that our statement is true for all numbers up to $k$, so $k! \\le k^k$. Then, we can multiply both sides by $k + 1$ and manipulate both sides to show that the statement is also true for $k+1$:\n",
    "\n",
    "\\begin{align}\n",
    "(k + 1) * k! &\\le (k + 1) * k^k \\\\[1em]\n",
    "(k + 1)! &\\le (k + 1)*(k + 1)^k \\\\[1em]\n",
    "(k + 1)! &\\le (k + 1)^{k + 1}\n",
    "\\end{align}\n",
    "\n",
    "We know the second inequality is true because the function $y = x^a$ is strictly increasing when $a > 0$ and $x > 1$. By the third inequality, we have proved the statement for $k+1$, and our proof by induction is complete. QED\n",
    "\n",
    "\\end{proof}"
   ]
  },
  {
   "cell_type": "markdown",
   "metadata": {},
   "source": [
    "\\subsection* {2.b}"
   ]
  },
  {
   "cell_type": "markdown",
   "metadata": {},
   "source": [
    "Show that $\\left( 1 + \\frac{1}{k} \\right)^{k} < \\left( 1 + \\frac{1}{k + 1} \\right)^{k + 1}$ for any natural number k.\n",
    "\n",
    "\\begin{proof}\n",
    "We first note that this equality holds when $k = 1$. This is important because our proof won't rigorously cover the case of $k = 1$, but it's evident through substitution that the statement is true for $k = 1$.\n",
    "\n",
    "We will do a direct proof by binomially expanding both sides of the inequality. Let's start with the left hand-side:\n",
    "\n",
    "\\begin{align}\n",
    "\\left( 1 + \\frac{1}{k} \\right)^{k} = {k \\choose 0} + {k \\choose 1} \\cdot \\frac{1}{k}^1 + {k \\choose 2} \\cdot \\frac{1}{k}^2 + \\cdot\\cdot\\cdot + {k \\choose k-1} \\cdot \\frac{1}{k}^{k-1} + {k \\choose k} \\cdot \\frac{1}{k}^k\n",
    "\\end{align}\n",
    "\n",
    "Let's write this more nicely with summation notation:\n",
    "\n",
    "\\begin{align}\n",
    "\\left( 1 + \\frac{1}{k} \\right)^{k} = \\sum_{d = 0}^{k} {k \\choose d} \\cdot \\frac{1}{k}^d\n",
    "\\end{align}\n",
    "\n",
    "Now, we can expand out each term of the summation in the following way:\n",
    "\n",
    "\\begin{align}\n",
    "\\left( 1 + \\frac{1}{k} \\right)^{k} &= \\sum_{d = 0}^{k} \\frac{k!}{(k - d)!(d)!} \\cdot \\frac{1}{k^d} \\\\[1em]\n",
    "\\left( 1 + \\frac{1}{k} \\right)^{k} &= \\sum_{d = 0}^{k} \\frac{1}{d!} \\cdot \\frac{k}{k} \\cdot \\frac{k - 1}{k} \\cdot\\cdot\\cdot \\frac{k - d + 2}{k} \\cdot \\frac{k - d + 1}{k} \\\\[1em]\n",
    "\\left( 1 + \\frac{1}{k} \\right)^{k} &= \\sum_{d = 0}^{k} \\frac{1}{d!} \\cdot \\left( 1 - \\frac{0}{k} \\right) \\cdot \\left( 1 - \\frac{1}{k} \\right) \\cdot\\cdot\\cdot \\left( 1 - \\frac{d - 2}{k} \\right) \\cdot \\left( 1 - \\frac{d - 1}{k} \\right)\n",
    "\\label{eq:1}\n",
    "\\end{align}\n",
    "\n",
    "This looks like we're getting somewhere. Let's do the same thing for the right hand side of the inequality:\n",
    "\n",
    "\\begin{align}\n",
    "\\left( 1 + \\frac{1}{k + 1} \\right)^{k + 1} &= {k + 1 \\choose 0} + {k +1 \\choose 1} \\cdot \\frac{1}{k +1}^1 + \\cdot\\cdot\\cdot + {k +1 \\choose k} \\cdot \\frac{1}{k +1}^{k} + {k + 1 \\choose k + 1} \\cdot \\frac{1}{k + 1}^{k + 1} \\\\[1em]\n",
    "\\left( 1 + \\frac{1}{k + 1} \\right)^{k + 1} &= \\sum_{d = 0}^{k + 1} {k + 1 \\choose d} \\cdot \\frac{1}{k + 1}^d \\\\[1em]\n",
    "\\left( 1 + \\frac{1}{k + 1} \\right)^{k + 1} &= \\sum_{d = 0}^{k + 1} \\frac{(k + 1)!}{(k + 1 - d)!(d)!} \\cdot \\frac{1}{(k + 1)^d} \\\\[1em]\n",
    "\\left( 1 + \\frac{1}{k + 1} \\right)^{k + 1} &= \\sum_{d = 0}^{k + 1} \\frac{1}{d!} \\cdot \\frac{k + 1}{k + 1} \\cdot \\frac{k}{k + 1} \\cdot\\cdot\\cdot \\frac{k - d + 3}{k + 1} \\cdot \\frac{k - d + 2}{k + 1} \\\\[1em]\n",
    "\\left( 1 + \\frac{1}{k + 1} \\right)^{k + 1} &= \\sum_{d = 0}^{k + 1} \\frac{1}{d!} \\cdot \\left(1 - \\frac{0}{k + 1} \\right) \\cdot \\left( 1 - \\frac{1}{k + 1} \\right) \\cdot\\cdot\\cdot \\left( 1 - \\frac{d - 2}{k + 1} \\right) \\cdot \\left( 1 - \\frac{d - 1}{k + 1} \\right)\\\\[1em]\n",
    "\\left( 1 + \\frac{1}{k + 1} \\right)^{k + 1} &= \\frac{1}{d!} \\cdot \\left(1 - \\frac{0}{k + 1} \\right) \\cdot\\cdot\\cdot \\left( 1 - \\frac{k}{k + 1} \\right) + \\sum_{d = 0}^{k} \\frac{1}{d!} \\cdot \\left(1 - \\frac{0}{k + 1} \\right) \\cdot \\left( 1 - \\frac{1}{k + 1} \\right) \\cdot\\cdot\\cdot \\left( 1 - \\frac{d - 2}{k + 1} \\right) \\cdot \\left( 1 - \\frac{d - 1}{k + 1} \\right)\n",
    "\\label{eq:2}\n",
    "\\end{align}\n",
    "\n",
    "\n",
    "The last two lines are related by taking out the $k + 1^{st}$ term in the summation. In equation \\ref{eq:2}, we know that the $k +1^{st}$ term is positive because all the factors are greater than $0$. Let's disregard this $k + 1^{st}$ term for now, since we know that it will only help our proof and not hurt it. This will allow us to better compare equations \\ref{eq:1} and \\ref{eq:2}. Now, we have $k$ terms in each summation, and we see that each factor (as grouped in parentheses) of each addend in summation \\ref{eq:1} has a one-to-one correlation with another factor (as grouped in parentheses) of each addend in summation \\ref{eq:2}. That was a mouthful, but basically the two equations are the exact same in terms of count and structure except for what is in the denominator; i.e. $\\left( 1 - \\frac{a}{k} \\right)$ vs $\\left( 1 - \\frac{a}{k + 1} \\right)$ for $0 \\le a \\le d - 1$. Since we have this one-to-one correspondence between the terms of the product, we can directly compare each term, and it is evident that $1 - \\frac{a+1}{k}$ is greater than $1 - \\frac{a}{k}$ for all $a < k$. This hand-wave-y proof suggests that:\n",
    "\n",
    "\\begin{align}\n",
    "\\sum_{d = 0}^{k} \\frac{1}{d!} \\cdot \\left( 1 - \\frac{0}{k} \\right) \\cdot \\left( 1 - \\frac{1}{k} \\right) \\cdot\\cdot\\cdot \\left( 1 - \\frac{d - 1}{k} \\right) < \\sum_{d = 0}^{k} \\frac{1}{d!} \\cdot \\left(1 - \\frac{0}{k + 1} \\right) \\cdot \\left( 1 - \\frac{1}{k + 1} \\right) \\cdot\\cdot\\cdot \\left( 1 - \\frac{d - 1}{k + 1} \\right)\n",
    "\\label{eq:3}\n",
    "\\end{align}\n",
    "\n",
    "I feel like the proof could end here, if we can accept inequality \\ref{eq:3} as being logically true. Inequality \\ref{eq:3} suggests that the RHS of \\ref{eq:1} is less than the RHS of \\ref{eq:2}, and that $\\left( 1 + \\frac{1}{k} \\right)^{k} < \\left( 1 + \\frac{1}{k + 1} \\right)^{k + 1}$, thus completing our proof. So QED.\n",
    "\n",
    "\\end{proof}\n",
    "\n",
    "\n",
    "I'm not sure exactly how rigorous this proof has to be, so I will also include a section on proving \\ref{eq:3}: Let's try to prove \\ref{eq:3} more rigorously. We follow the same line of logic as before, mainly that both the LHS and the RHS have a total of $k+1$ terms, and each subsequent term has an increasing number of factors of the form $1 - \\frac{a}{k}$ or $1 - \\frac{a}{k+1}$. We can ignore the $\\frac{1}{d!}$ factor since they are the same between corresponding terms on the LHS and the RHS, and we can also ignore when $a = 0$ because that would just result in multiplying both sides by $1$. Ignoring the two previous factors, each addend has an increasing number of factors, from $1$ factor when $d = 1$ to $k - 1$ factors when $d = k$. We will use induction on the number of factors, since we already know that the base case, where we have one factor, already holds for any $k \\ge 2$. The base case is:\n",
    "$1 - \\frac{a}{k} < 1 - \\frac{a+1}{k}$ for all $0 < a < k$\n",
    "\n",
    "Our general case is:\n",
    "\n",
    "\\begin{align}\n",
    "\\prod_{a = 1}^{n} \\left(1 - \\frac{a}{k} \\right) < \\prod_{a = 1}^{n} \\left(1 - \\frac{a}{k + 1} \\right)\n",
    "\\label{eq:4}\n",
    "\\end{align}\n",
    "\n",
    "for $1 \\le n \\le k-1$.\n",
    "\n",
    "We prove this with induction on $n$ and let $k$ be any number we'd like, subject to the constraint $2 \\le k $. Note that $n$ is a proxy for the number of terms in \\ref{eq:3}. We've already shown the base case, so let's assume \\ref{eq:4} holds true up to n = m. Then, we can write:\n",
    "\n",
    "\\begin{align}\n",
    "\\prod_{a = 1}^{m} \\left(1 - \\frac{a}{k} \\right) &< \\prod_{a = 1}^{m} \\left(1 - \\frac{a}{k + 1} \\right) \\\\[1em]\n",
    "\\left( 1 - \\frac{m+1}{k}\\right)\\prod_{a = 1}^{m} \\left(1 - \\frac{a}{k} \\right) &< \\left( 1 - \\frac{m+1}{k}\\right)\\prod_{a = 1}^{m} \\left(1 - \\frac{a}{k + 1} \\right) \\\\[1em]\n",
    "\\left( 1 - \\frac{m+1}{k}\\right)\\prod_{a = 1}^{m} \\left(1 - \\frac{a}{k} \\right) &< \\left( 1 - \\frac{m+2}{k+1}\\right)\\prod_{a = 1}^{m} \\left(1 - \\frac{a}{k + 1} \\right) \\\\[1em]\n",
    "\\prod_{a = 1}^{m+1} \\left(1 - \\frac{a}{k} \\right) &< \\prod_{a = 1}^{m+2} \\left(1 - \\frac{a}{k + 1} \\right)\n",
    "\\end{align}\n",
    "\n",
    "Thus, we have shown that inequality \\ref{eq:4} is true by induction. By extension, inequality \\ref{eq:4} mirrors inequality \\ref{eq:3} and proves it rigorously. Now, we can say QED with less fear (refer to the previous explanation why \\ref{eq:3} shows the inequality we are trying to prove in the problem).\n",
    "\n"
   ]
  },
  {
   "cell_type": "markdown",
   "metadata": {},
   "source": [
    "\\subsection* {2.c}\n",
    "Show that $n! > \\frac{n^n}{e^n}$\n",
    "\n",
    "\\begin{proof}\n",
    "\n",
    "We will prove this statement using induction. There is occasionally confusion about whether $0 \\in \\mathbb{N}$. Since this statement doesn't hold for $n = 0$, let's just say that $0 \\notin \\mathbb{N}$. So, our base case is $n = 1$, and the statement clearly holds because $1 > \\frac{1}{e}$. Now, we assume that the statement is true up through $n = k$. Now let's manipulate our induction hypothesis:\n",
    "\n",
    "\\begin{align}\n",
    "k! &> \\frac{k^k}{e^k} \\\\[1em]\n",
    "(k+1) \\cdot k! &> (k + 1) \\cdot \\frac{k^k}{e^k} \\\\[1em]\n",
    "(k + 1)! &> (k + 1) \\frac{k^k}{e^k} \\cdot \\frac{(k + 1)^k}{(k+1)^k} \\\\[1em]\n",
    "(k + 1)! &> \\left( \\frac{k}{k + 1} \\right)^k \\cdot \\frac{(k + 1)^{k + 1}}{e^k}\n",
    "\\label{eq:5}\n",
    "\\end{align}\n",
    "\n",
    "Before we go further, note that based on our definition of $e = \\lim_{x\\to\\infty}\\left( 1 + \\frac{1}{x} \\right)^x$ and our previous proof that $\\left( 1 + \\frac{1}{x} \\right)^{x} < \\left( 1 + \\frac{1}{x + 1} \\right)^{x + 1}$, we know that  for any natural number $x$:\n",
    "\n",
    "\\begin{align}\n",
    "e \\ge \\left( 1 + \\frac{1}{x} \\right)^{x} \\\\[1em]\n",
    "e \\ge \\left( \\frac{x + 1}{x} \\right)^{x}\n",
    "\\end{align}\n",
    "\n",
    "Manipulating the equations, we get that\n",
    "\n",
    "\\begin{align}\n",
    "\\frac{1}{e} \\le \\left( \\frac{x}{x+1}\\right)^x\n",
    "\\end{align}\n",
    "\n",
    "Great, let's substitute this back into inequality \\ref{eq:5} to get:\n",
    "\n",
    "\\begin{align}\n",
    "(k + 1)! &> \\frac{1}{e} \\cdot \\frac{(k + 1)^{k + 1}}{e^k} \\\\[1em]\n",
    "(k + 1)! &> \\frac{(k + 1)^{k + 1}}{e^{k+1}}\n",
    "\\end{align}\n",
    "\n",
    "Ok, this is exactly what we wanted to show, that the statements holds true for $k+1$. By induction, we can now say that $n! > \\frac{n^n}{e^n}$. QED\n",
    "\n",
    "\n",
    "\\end{proof}"
   ]
  },
  {
   "cell_type": "markdown",
   "metadata": {},
   "source": [
    "\\section* {Problem 3}\n",
    "\\subsection* {3.a}"
   ]
  },
  {
   "cell_type": "markdown",
   "metadata": {},
   "source": [
    "This is the same as $\\frac{1}{47 \\choose 6}$, which is:\n",
    "\\begin{align}\n",
    "\\frac{6 \\cdot 5 \\cdot 4 \\cdot 3 \\cdot 2 \\cdot 1}{47 \\cdot 46 \\cdot 45 \\cdot 44 \\cdot 43 \\cdot 42}\n",
    "\\end{align}\n",
    "\n",
    "Since we're in Jupyter Labs, let's just make our lives easier with the scipy function."
   ]
  },
  {
   "cell_type": "code",
   "execution_count": 1,
   "metadata": {},
   "outputs": [
    {
     "name": "stdout",
     "output_type": "stream",
     "text": [
      "10737573.0 combinations\n",
      "9.313091515186905e-08 chance\n"
     ]
    }
   ],
   "source": [
    "import scipy.special\n",
    "#47 choose 6\n",
    "combo_count = scipy.special.comb(47, 6)\n",
    "print(combo_count, \"combinations\")\n",
    "print(1 / combo_count, \"chance\")\n"
   ]
  },
  {
   "cell_type": "markdown",
   "metadata": {},
   "source": [
    "We have a $1$ in 10737573 chance of getting the right combination, or around $9.31 * 10^{-08}$ chance."
   ]
  },
  {
   "cell_type": "markdown",
   "metadata": {},
   "source": [
    "\\subsection* {3.b}"
   ]
  },
  {
   "cell_type": "markdown",
   "metadata": {},
   "source": [
    "We calculate $\\frac{1}{47 \\cdot 46 \\cdot 45 \\cdot 44 \\cdot 43 \\cdot 42}$ to get: $\\frac{1}{7731052560}$ chance (or around $1.29 * 10^{-10}$ )."
   ]
  },
  {
   "cell_type": "markdown",
   "metadata": {},
   "source": [
    "\\subsection* {3.c}"
   ]
  },
  {
   "cell_type": "markdown",
   "metadata": {},
   "source": [
    "To find the total number of possible combinations, we multiply:\n",
    "\\begin{align}\n",
    "{24 \\choose 3} \\cdot {23 \\choose 3}\n",
    "\\end{align}"
   ]
  },
  {
   "cell_type": "markdown",
   "metadata": {},
   "source": [
    "We can get ${24 \\choose 3}$ different ways of choosing $3$ numbers from the first $24$ numbers, and we can get ${23 \\choose 3}$ different ways of choosing $3$ numbers from the last $23$ numbers. We multiply to get the total number of combinations. Then, we take the reciprocal, and we see we have a \n",
    "$\\frac{1}{3584504}$ chance or $2.78 * 10^{-7}$ chance:"
   ]
  },
  {
   "cell_type": "code",
   "execution_count": 2,
   "metadata": {},
   "outputs": [
    {
     "name": "stdout",
     "output_type": "stream",
     "text": [
      "3584504.0 combinations\n",
      "2.7897862577360775e-07 chance\n"
     ]
    }
   ],
   "source": [
    "combo_count = scipy.special.comb(24, 3) * scipy.special.comb(23, 3)\n",
    "print(combo_count, \"combinations\")\n",
    "print(1 / combo_count, \"chance\")\n"
   ]
  },
  {
   "cell_type": "markdown",
   "metadata": {},
   "source": [
    "\\subsection* {3.d}"
   ]
  },
  {
   "cell_type": "markdown",
   "metadata": {},
   "source": [
    "Our chances of correctly guessing without any information is \n",
    "\n",
    "\\begin{align}\n",
    "\\frac{1}{n \\choose 6}\n",
    "\\end{align}\n",
    "\n",
    "Our chances of correctly guessing with the information is \n",
    "\n",
    "\\begin{align}\n",
    "\\frac{1}{{n/2 \\choose 3} \\cdot {n/2 \\choose 3}}\n",
    "\\end{align}\n",
    "\n"
   ]
  },
  {
   "cell_type": "markdown",
   "metadata": {},
   "source": [
    "Our chances increase by this amount of times:\n",
    "\n",
    "\\begin{align}\n",
    "\\frac{\\frac{1}{{n/2 \\choose 3} \\cdot {n/2 \\choose 3}} - \\frac{1}{n \\choose 6}}{\\frac{1}{n \\choose 6}}\n",
    "\\end{align}\n",
    "\n",
    "Ok, now let's manipulate the expression to make it look nicer:"
   ]
  },
  {
   "cell_type": "markdown",
   "metadata": {},
   "source": [
    "\\begin{align}\n",
    "\\frac{n \\choose 6}{{n/2 \\choose 3} \\cdot {n/2 \\choose 3}} &- 1 \\\\[1em]\n",
    "\\frac{\\frac{n \\cdot (n - 1) \\cdot (n - 2) \\cdot (n - 3) \\cdot (n - 4) \\cdot (n - 5)}{6 \\cdot 5 \\cdot 4 \\cdot 3 \\cdot 2 \\cdot 1}}{\\frac{n \\cdot (n - 2) \\cdot (n - 4) \\cdot n \\cdot (n - 2) \\cdot (n - 4)}{3! \\cdot 3! \\cdot 2^{6}}} &- 1 \\\\[1em]\n",
    "\\frac{16}{5} \\cdot \\frac{(n - 1) \\cdot (n - 3) \\cdot (n - 5)}{n \\cdot (n - 2) \\cdot (n - 4)} &- 1\n",
    "\\end{align}"
   ]
  },
  {
   "cell_type": "markdown",
   "metadata": {},
   "source": [
    "Great, this is our final answer, in terms of how many times more likely our chances increased. To change to percentage, we would just multiply this by $100$. It seems like a reasonably simple calculation, given any $n$. Let's see if our calculation matches up for a random case $n = 46$."
   ]
  },
  {
   "cell_type": "code",
   "execution_count": 3,
   "metadata": {},
   "outputs": [
    {
     "name": "stdout",
     "output_type": "stream",
     "text": [
      "Probability of winning without information: 1.0675982956433769e-07\n",
      "Probability of winning with information: 3.188327151698374e-07\n",
      "Our chances improved by 1.9864483342744215 times\n"
     ]
    }
   ],
   "source": [
    "#actual amount our chances increase by\n",
    "prob_no_info = 1 / scipy.special.comb(46, 6)\n",
    "prob_with_info = 1 / (scipy.special.comb(23, 3) * scipy.special.comb(23, 3))\n",
    "print(\"Probability of winning without information:\", prob_no_info)\n",
    "print(\"Probability of winning with information:\", prob_with_info)\n",
    "print(\"Our chances improved by\", (prob_with_info - prob_no_info) / prob_no_info, \"times\")\n"
   ]
  },
  {
   "cell_type": "markdown",
   "metadata": {},
   "source": [
    "What does our calculation say?"
   ]
  },
  {
   "cell_type": "code",
   "execution_count": 4,
   "metadata": {},
   "outputs": [
    {
     "name": "stdout",
     "output_type": "stream",
     "text": [
      "Our chances should improve by 1.9864483342744212 times\n"
     ]
    }
   ],
   "source": [
    "chance_increase_by = (16 / 5) * (45 * 43 * 41) / 46 / 44 / 42 - 1\n",
    "print (\"Our chances should improve by\", chance_increase_by, \"times\")\n"
   ]
  },
  {
   "cell_type": "markdown",
   "metadata": {},
   "source": [
    "\\section* {Problem 4}"
   ]
  },
  {
   "cell_type": "markdown",
   "metadata": {},
   "source": [
    "Let $a$ be the number of vertices with degree $2$ and $b$ be the number of vertices with degree $5$. We can write a systems of equations:\n",
    "\n",
    "\\begin{align}\n",
    "a + b &= 6 \\\\[1em]\n",
    "2a + 5b &= 12 \\cdot 2\n",
    "\\end{align}\n",
    "\n",
    "In the second equation, we double count the number of double-counted edges. This results in $a = 2$ and $b = 4$; $2$ vertices of degree $2$, and $4$ vertices have degree $5$. This can be easily achieved using parallel edges. There is no requirement that the graph must be simple, so this is fine. Fully connect four vertices and then add two sets of parallel edges such that each vertex has $4$ edges. Then, add the two vertices of degree $2$ in such a way that each vertex of degree $4$ gains a single edge."
   ]
  },
  {
   "cell_type": "markdown",
   "metadata": {},
   "source": [
    "\\section* {Problem 5}\n",
    "\\subsection* {5.a}"
   ]
  },
  {
   "cell_type": "markdown",
   "metadata": {},
   "source": [
    "\\begin{proof}\n",
    "I'm pretty sure this statement only works for simple graphs, since it's very easy to create a non-simple graph that violates the statement. Therefore, let's only consider simple graphs. We will do a pigeonhole proof. Let's separate the problem into two scenarios: one where a graph of $n \\ge 2$ vertices is completely connected, and one where the graph of $n \\ge 2$ vertices is not completely connected.\n",
    "\n",
    "In the first scenario where the graph is completely connected, individual vertices can have degrees $1$ to $n-1$; none of the vertices can have degree $0$ because the graph is fully connected, and none of the vertices can have degrees greater than $n-1$ because the graph is assumed to be simple. However, note that we have $n$ vertices in total, and the pigeonhole principle suggests that at least two vertices will share the same degree.\n",
    "\n",
    "In the second scenario where the graph is not completely connected, individual vertices can have degrees $0$ to $n - 2$. We cannot have a vertex of degree $n - 1$ because that would imply that it is connected to all the other vertices and the graph is completely connected. Again, since we have more vertices ($n$) than the number of degrees, at least two vertices will share the same degree.\n",
    "\\end{proof}"
   ]
  },
  {
   "cell_type": "markdown",
   "metadata": {},
   "source": [
    "\\subsection* {5.b}"
   ]
  },
  {
   "cell_type": "markdown",
   "metadata": {},
   "source": [
    "\\begin{proof}\n",
    "\n",
    "We will do a proof by contradiction. Let's assume on the contrary that two maximum length paths in a connected graph do not intersect at any vertices. Let's call the first path $Path \\ X$ and the second path $Path \\ Y$. Since the graph is connected, we will be able to find a $Path \\ C$ between $Path \\ X$ and $Path \\ Y$. Say this connecting path connects vertex $a$ of $Path \\ X$ to vertex $b$ of $Path \\ Y$; the connecting path may be a single edge or consist of multiple edges, but it is at least one edge long. Now, we see that vertex $a$ divides $Path \\ X$ into two segments, and $b$ divides $Path \\ Y$ into two segments as well. We examine the longer segments of $Path \\ X$ and $Path \\ Y$ (or, if the vertices divide $Path \\ X$ or $Path \\ Y$ into equal segments, we can choose either segment), and we can create a path with these two segments, connected by $Path \\ C$ at vertices $a$ and $b$. This path is will be longer than either $Path \\ X$ or $Path \\ Y$ because it will be at least one edge longer, due to the connecting $Path \\ C$. This is a contradiction toward our original premise that $Path \\ X$ and $Path \\ Y$ are the longest paths, and it shows that two maximum length paths in a connected graph must intersect.\n",
    "\n",
    "\\end{proof}"
   ]
  },
  {
   "cell_type": "markdown",
   "metadata": {},
   "source": [
    "\\subsection* {5.c}"
   ]
  },
  {
   "cell_type": "markdown",
   "metadata": {},
   "source": [
    "\\begin{proof}\n",
    "\n",
    "For the sake of clarity, let's define all the terms. A tree is a non-cyclic subgraph of an undirected graph, a path graph is one that joins a sequence of distinct vertices. A leaf is a vertex that only has one edge. We will first show that a tree must have at least two leaves, and then we will show that a tree with two leaves is always a path graph. Then, putting these two pieces together, a non-path tree graph must have at least three leaves.\n",
    "\n",
    "We show that a tree must have at least two leaves by examining the sum of the vertex degrees. Let $V$ represent the set of all vertices in the tree, $s$ represent the subset of leaves, $n$ represent the total number of nodes (i.e. $|V| = n$), and $degree(v)$ represent the degree of vertex $v$. We note that the total number of edges is $n - 1$ since there are no cycles, and the sum of the vertex degrees is $2(n-1)$ since each edge is counted twice. The sum of the vertex degrees can then be written as:\n",
    "\n",
    "\\begin{align}\n",
    "2n - 2 &= \\sum_{v \\in V}^{n} degree(v) \\\\[1em]\n",
    "2n - 2 &= |s| + \\sum_{v \\in V \\setminus s}^{n} degree(v)\n",
    "\\end{align}\n",
    "\n",
    "We know that the internal vertices (i.e. non-leaves) must have have at least two edges, by definition (otherwise they would be leaves).\n",
    "\n",
    "\\begin{align}\n",
    "2n - 2 &>= |s| + 2(n - |s|) \\\\[1em]\n",
    "- 2 &>= 2n - |s| \\\\[1em]\n",
    "2 &<= |s|\n",
    "\\end{align}\n",
    "\n",
    "Great, now we've shown that a tree must have at least two leaves. Now, let's show that tree with two leaves are always path graphs. We note that every tree must have a unique path between two vertices; if there was more than one path between two vertices, then we would have a cycle in the tree. Let's examine the path between two leaves of a two-leaf tree. Since the tree is fully connected, the only path from one leaf to the other traverses all the vertices, making the two-leaf tree a path graph. Thus, a non-path tree must have at least three vertices. It is easy to create such a tree; take a root node and have three children nodes that are all leaves.\n",
    "\n",
    "\\end{proof}"
   ]
  }
 ],
 "metadata": {
  "kernelspec": {
   "display_name": "Python 3",
   "language": "python",
   "name": "python3"
  },
  "language_info": {
   "codemirror_mode": {
    "name": "ipython",
    "version": 3
   },
   "file_extension": ".py",
   "mimetype": "text/x-python",
   "name": "python",
   "nbconvert_exporter": "python",
   "pygments_lexer": "ipython3",
   "version": "3.8.5"
  }
 },
 "nbformat": 4,
 "nbformat_minor": 4
}
